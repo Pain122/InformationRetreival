{
 "cells": [
  {
   "cell_type": "markdown",
   "metadata": {},
   "source": [
    "## Wildcards and typos\n",
    "\n",
    "For a predefined (small) [vocabulary](https://github.com/IUCVLab/information-retrieval/blob/main/datasets/small-dict.txt), which you can download or even hardcode in the solution, you should be able to solve 2 types of problems:\n",
    "1. Retrieve all words, matching a given **wildcard**.\n",
    "2. Retrieve the best suggestion for **typo** fix.\n",
    "\n",
    "To know, how to do this, you can adress the book, lecture slides and homework statement.\n",
    "\n",
    "### input\n",
    "\n",
    "You will be given a file `input.txt` with 2 lines. The first will have the type of action (`wildcard` or `typo`), the second will store input data. Like this:\n",
    "```\n",
    "typo\n",
    "anemal\n",
    "```\n",
    "or \n",
    "```\n",
    "wildcard\n",
    "a*al\n",
    "```\n",
    "\n",
    "### output\n",
    "\n",
    "Print result into a `output.txt` file. \n",
    "- _Wildcard_ can return multiple results, so print them in **alphabetic order**, one per line. Like this:\n",
    "\n",
    "```\n",
    "analitical\n",
    "animal\n",
    "annual\n",
    "```\n",
    "\n",
    "- _Typo_ fix should return the **single best match** (there will be always **exactly one best match** based on editorial distance).\n",
    "\n",
    "### prohibited things\n",
    "- Regular expressions are not allowed in your solutions (`import re` in particular).\n",
    "- testing wildcards with `part` **in** `word`. Please implement index-based approach.\n",
    "\n",
    "### code to start with\n",
    "You can start with this, but you are free to make any changes."
   ]
  },
  {
   "cell_type": "code",
   "execution_count": 19,
   "metadata": {},
   "outputs": [
    {
     "name": "stdout",
     "output_type": "stream",
     "text": [
      "0\n"
     ]
    }
   ],
   "source": [
    "print(levenstein('cat', 'cat'))"
   ]
  },
  {
   "cell_type": "code",
   "execution_count": null,
   "metadata": {},
   "outputs": [],
   "source": [
    "def levenstein(w1, w2, len1, len2):\n",
    "    dp = [[0 for x in range(n + 1)] for x in range(m + 1)]"
   ]
  },
  {
   "cell_type": "code",
   "execution_count": 20,
   "metadata": {
    "tags": []
   },
   "outputs": [
    {
     "ename": "SyntaxError",
     "evalue": "invalid syntax (<ipython-input-20-859c0ab57a22>, line 42)",
     "output_type": "error",
     "traceback": [
      "\u001b[1;36m  File \u001b[1;32m\"<ipython-input-20-859c0ab57a22>\"\u001b[1;36m, line \u001b[1;32m42\u001b[0m\n\u001b[1;33m    res =\u001b[0m\n\u001b[1;37m          ^\u001b[0m\n\u001b[1;31mSyntaxError\u001b[0m\u001b[1;31m:\u001b[0m invalid syntax\n"
     ]
    }
   ],
   "source": [
    "import requests\n",
    "import sortedcontainers\n",
    "\n",
    "dictionary = requests.get('https://raw.githubusercontent.com/IUCVLab/information-retrieval/main/datasets/small-dict.txt').text.split()\n",
    "\n",
    "def levenstein(a, b):\n",
    "    result = 0\n",
    "    if len(a) == 0:\n",
    "        return len(b)\n",
    "    elif len(b) == 0:\n",
    "        return len(a)\n",
    "    elif a[0] == b[0]:\n",
    "        return levenstein(a[1:], b[1:])\n",
    "    else: \n",
    "        return 1 + min(levenstein(a[1:], b), \n",
    "                        levenstein(a, b[1:]), \n",
    "                        levenstein(a[1:], b[1:]))\n",
    "\n",
    "def typo(word):\n",
    "    lev = 99999\n",
    "    data = ''\n",
    "    for d in dictionary:\n",
    "        l = levenstein(word, d)\n",
    "        if l < lev:\n",
    "            lev = le\n",
    "    \n",
    "    \n",
    "def wildcard(data, word):\n",
    "    wp = 0\n",
    "    dp = 0\n",
    "    buff = ''\n",
    "    while dp != len(data):\n",
    "        \n",
    "    \n",
    "\n",
    "with open('input.txt', 'r') as f:\n",
    "    action = f.readline().trim()\n",
    "    data = f.readline().trim()\n",
    "    if 'typo' == action:\n",
    "        res = sorted(list(map(lambda w: (w, levenstein(w, data)), dictionary)), key = lambda x: x[1])[0][0]\n",
    "    elif 'wildcard' == action:\n",
    "        res = \n",
    "\n",
    "with open('output.txt', 'w+'):\n",
    "    output.write(res)"
   ]
  },
  {
   "cell_type": "code",
   "execution_count": null,
   "metadata": {},
   "outputs": [],
   "source": []
  },
  {
   "cell_type": "markdown",
   "metadata": {},
   "source": [
    "## assessment\n",
    "\n",
    "*During the lab* students are ranked by tuple `(№ of tests desc, submission time asc)`.\n",
    "\n",
    "*By deadline* contest is accepted if all tests are passed."
   ]
  }
 ],
 "metadata": {
  "kernelspec": {
   "display_name": "Python 3",
   "language": "python",
   "name": "python3"
  },
  "language_info": {
   "codemirror_mode": {
    "name": "ipython",
    "version": 3
   },
   "file_extension": ".py",
   "mimetype": "text/x-python",
   "name": "python",
   "nbconvert_exporter": "python",
   "pygments_lexer": "ipython3",
   "version": "3.8.8"
  }
 },
 "nbformat": 4,
 "nbformat_minor": 4
}
