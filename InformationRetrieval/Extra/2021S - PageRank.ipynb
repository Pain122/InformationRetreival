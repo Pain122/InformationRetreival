{
 "cells": [
  {
   "cell_type": "markdown",
   "metadata": {},
   "source": [
    "# PageRank\n",
    "Today we will implement PageRank algorithm for a small collection of document about Information Retrieval. For this we will extract link information from Wikipedia and build a Google Matrix. \n",
    "\n",
    "Based on the matrix you will build a *reputation ranking for the documents*. Input test file `input.txt` will give you a 0-based ranking position of the document, and you will print it's title to the `output.txt`.\n",
    "\n",
    "Example:\n",
    "**input.txt**\n",
    "```\n",
    "3\n",
    "```\n",
    "\n",
    "**output.txt**\n",
    "```\n",
    "World Wide Web\n",
    "```\n",
    "To obtain ranking result you can use:\n",
    "- Naïve approach with matrix inversion\n",
    "- Power Method\n",
    "\n",
    "Please avoid submitting your solutions with `np.linalg.eig`, even you can use it to verify you result.\n",
    "\n",
    "# 0. Download a dataset\n",
    "\n",
    "You can use this code to reproduce the whole pipeline on your machine. Below you will find the code, which load the adjacency matrix from string, thus you can skip code given below in your submissions."
   ]
  },
  {
   "cell_type": "code",
   "execution_count": 1,
   "metadata": {},
   "outputs": [
    {
     "name": "stdout",
     "output_type": "stream",
     "text": [
      "Collecting wikipedia\n",
      "  Downloading wikipedia-1.4.0.tar.gz (27 kB)\n",
      "Requirement already satisfied: beautifulsoup4 in c:\\users\\pavel\\appdata\\local\\programs\\python\\python38\\lib\\site-packages (from wikipedia) (4.8.0)\n",
      "Requirement already satisfied: requests<3.0.0,>=2.0.0 in c:\\users\\pavel\\appdata\\local\\programs\\python\\python38\\lib\\site-packages (from wikipedia) (2.25.1)\n",
      "Requirement already satisfied: certifi>=2017.4.17 in c:\\users\\pavel\\appdata\\local\\programs\\python\\python38\\lib\\site-packages (from requests<3.0.0,>=2.0.0->wikipedia) (2020.12.5)\n",
      "Requirement already satisfied: urllib3<1.27,>=1.21.1 in c:\\users\\pavel\\appdata\\local\\programs\\python\\python38\\lib\\site-packages (from requests<3.0.0,>=2.0.0->wikipedia) (1.26.4)\n",
      "Requirement already satisfied: idna<3,>=2.5 in c:\\users\\pavel\\appdata\\local\\programs\\python\\python38\\lib\\site-packages (from requests<3.0.0,>=2.0.0->wikipedia) (2.10)\n",
      "Requirement already satisfied: chardet<5,>=3.0.2 in c:\\users\\pavel\\appdata\\local\\programs\\python\\python38\\lib\\site-packages (from requests<3.0.0,>=2.0.0->wikipedia) (3.0.4)\n",
      "Requirement already satisfied: soupsieve>=1.2 in c:\\users\\pavel\\appdata\\local\\programs\\python\\python38\\lib\\site-packages (from beautifulsoup4->wikipedia) (2.2.1)\n",
      "Building wheels for collected packages: wikipedia\n",
      "  Building wheel for wikipedia (setup.py): started\n",
      "  Building wheel for wikipedia (setup.py): finished with status 'done'\n",
      "  Created wheel for wikipedia: filename=wikipedia-1.4.0-py3-none-any.whl size=11686 sha256=649e70aaff09e33e59011ac5cb01bc763729d346e88db7e1d5ec6fdc8f06de60\n",
      "  Stored in directory: c:\\users\\pavel\\appdata\\local\\pip\\cache\\wheels\\07\\93\\05\\72c05349177dca2e0ba31a33ba4f7907606f7ddef303517c6a\n",
      "Successfully built wikipedia\n",
      "Installing collected packages: wikipedia\n",
      "Successfully installed wikipedia-1.4.0\n"
     ]
    },
    {
     "name": "stderr",
     "output_type": "stream",
     "text": [
      "WARNING: You are using pip version 21.0.1; however, version 21.1.1 is available.\n",
      "You should consider upgrading via the 'c:\\users\\pavel\\appdata\\local\\programs\\python\\python38\\python.exe -m pip install --upgrade pip' command.\n"
     ]
    }
   ],
   "source": [
    "!pip install wikipedia"
   ]
  },
  {
   "cell_type": "code",
   "execution_count": 1,
   "metadata": {},
   "outputs": [
    {
     "name": "stderr",
     "output_type": "stream",
     "text": [
      "100%|██████████████████████████████████████████████████████████████████████████████████| 40/40 [00:44<00:00,  1.10s/it]\n"
     ]
    }
   ],
   "source": [
    "import wikipedia\n",
    "\n",
    "pages = [\n",
    "    \"Bag-of-words model\",\n",
    "    \"Bayes' theorem\",\n",
    "    \"Cluster analysis\",\n",
    "    \"Content-based image retrieval\",\n",
    "    \"Database\",\n",
    "    \"Deep learning\",\n",
    "    \"Desktop search\",\n",
    "    \"Dimensionality reduction\",\n",
    "    \"Discounted Cumulative Gain\",\n",
    "    \"Eigenvector\",\n",
    "    \"Full-text search\",\n",
    "    \"Hypertext\",\n",
    "    \"Image retrieval\",\n",
    "    \"Information retrieval\",\n",
    "    \"Information system\",\n",
    "    \"K-nearest neighbors algorithm\",\n",
    "    \"Language model\",\n",
    "    \"Latent Dirichlet allocation\",\n",
    "    \"Latent semantic analysis\",\n",
    "    \"Low-rank approximation\",\n",
    "    \"Multimedia information retrieval\",\n",
    "    \"Netflix Prize\",\n",
    "    \"Netflix\",\n",
    "    \"Ranking (information retrieval)\",\n",
    "    \"Recommender systems\",\n",
    "    \"Relevance (information retrieval)\",\n",
    "    \"Rocchio algorithm\",\n",
    "    \"Search algorithm\",\n",
    "    \"Search engines\",\n",
    "    \"Semantic search\",\n",
    "    \"Semantic web\",\n",
    "    \"Sentiment analysis\",\n",
    "    \"Similarity search\",\n",
    "    \"Site search\",\n",
    "    \"Text mining\",\n",
    "    \"Text Retrieval Conference\",\n",
    "    \"Tf–idf\",\n",
    "    \"Vector space model\",\n",
    "    \"Web crawler\",\n",
    "    \"World Wide Web\"\n",
    "]\n",
    "\n",
    "import tqdm\n",
    "\n",
    "dataset = {}\n",
    "for page in tqdm.tqdm(pages):\n",
    "    dataset[page] = wikipedia.page(page)"
   ]
  },
  {
   "cell_type": "markdown",
   "metadata": {},
   "source": [
    "## 0.1. Essential data is stored in adjacency matrix\n",
    "\n",
    "Here we create a 0/1 adjacency matrix."
   ]
  },
  {
   "cell_type": "code",
   "execution_count": 2,
   "metadata": {},
   "outputs": [
    {
     "name": "stderr",
     "output_type": "stream",
     "text": [
      "100%|██████████████████████████████████████████████████████████████████████████████████| 40/40 [00:23<00:00,  1.69it/s]\n"
     ]
    },
    {
     "data": {
      "image/png": "[encoded data removed]",
      "text/plain": [
       "<Figure size 432x288 with 1 Axes>"
      ]
     },
     "metadata": {
      "needs_background": "light"
     },
     "output_type": "display_data"
    }
   ],
   "source": [
    "import numpy as np\n",
    "import tqdm\n",
    "import matplotlib.pyplot as plt\n",
    "\n",
    "A = np.zeros((len(pages), len(pages)))\n",
    "for j, page in enumerate(tqdm.tqdm(pages)):\n",
    "    for link in dataset[page].links:\n",
    "        if link in pages:\n",
    "            i = pages.index(link)\n",
    "            A[i, j] = 1\n",
    "\n",
    "plt.imshow(A)\n",
    "plt.show()"
   ]
  },
  {
   "cell_type": "code",
   "execution_count": 3,
   "metadata": {},
   "outputs": [
    {
     "name": "stdout",
     "output_type": "stream",
     "text": [
      "0000000000000000011000000000000100100100000000000000010000000000000000000000000000000101000000000000100010000000000000000000001000001000000010000000000000000000000110000001111000000000000111100010000100100000000000000010000000000001000000000000000000001100000000000000110001000010000001000100000000000100100000001010000000000000000000000000000010000000000000000000000000000000001000000000000000000000000000000000010000000000000000000000000000001000000001000000000000000110010000010001000000000100000010000000110001000010101010001010101011101001111010100111110000001000000001000000000000000000000000010000010100000000000010001000000000000000100001000000010000000000000000000000000010000000000001000010000000000001001010001000000100000100010100000100001110101100000000000000000000100000000000000000000000010000000011000000000000000000000000000000000100000000000000101000000010000000000000000000000000000100100000000000000000000000000001000000000000010000000000000010000000000100000000000000000000000000000000001010010000000001001010000010110000000000000000000000000010000000000000000000000000000000000000001000000000000000000000000000011000000000000000000000001100001000000110000000000000001010010000110000000000001000000000000000010000100000100001000000000001100000100000000010000000000001000000000000010010000000000000000000000000000100000000000000000000000000100000000000100001100000100011010100101000000000000001000000000001000000000000001000000000000100001000001000000000000100100000000000010000101000001000000000100000000000000010000000000000001110010000010000100010010110000000000000111000000010\n"
     ]
    }
   ],
   "source": [
    "def save(mx):\n",
    "    return \"\".join(\"0\" if v == 0 else \"1\" for v in mx.flatten())\n",
    "    \n",
    "Atext = save(A)\n",
    "print(Atext)"
   ]
  },
  {
   "cell_type": "markdown",
   "metadata": {},
   "source": [
    "# 1. You can start implementing your solution from this place\n",
    "Use the code below in your solution to load the matrix."
   ]
  },
  {
   "cell_type": "code",
   "execution_count": 4,
   "metadata": {},
   "outputs": [
    {
     "data": {
      "image/png": "[encoded data removed]",
      "text/plain": [
       "<Figure size 432x288 with 1 Axes>"
      ]
     },
     "metadata": {
      "needs_background": "light"
     },
     "output_type": "display_data"
    }
   ],
   "source": [
    "pages = [ \"Bag-of-words model\", \"Bayes' theorem\", \"Cluster analysis\", \"Content-based image retrieval\", \"Database\", \"Deep learning\", \"Desktop search\", \"Dimensionality reduction\", \"Discounted Cumulative Gain\", \"Eigenvector\", \"Full-text search\", \"Hypertext\", \"Image retrieval\", \"Information retrieval\", \"Information system\", \"K-nearest neighbors algorithm\", \"Language model\", \"Latent Dirichlet allocation\", \"Latent semantic analysis\", \"Low-rank approximation\", \"Multimedia information retrieval\", \"Netflix Prize\", \"Netflix\", \"Ranking (information retrieval)\", \"Recommender systems\", \"Relevance (information retrieval)\", \"Rocchio algorithm\", \"Search algorithm\", \"Search engines\", \"Semantic search\", \"Semantic web\", \"Sentiment analysis\", \"Similarity search\", \"Site search\", \"Text mining\", \"Text Retrieval Conference\", \"Tf–idf\", \"Vector space model\", \"Web crawler\", \"World Wide Web\"]\n",
    "Atext = \"0000000000000000011000000000000100100100000000000000010000000000000000000000000000000101000000000000100010000000000000000000001000001000000010000000000000000000000110000001111000000000000111100010000100100000000000000010000000000001000000000000000000001100000000000000110001000010000001000100000000000100100000001010000000000000000000000000000010000000000000000000000000000000001000000000000000000000000000000000010000000000000000000000000000001000000001000000000000000110010000010001000000000100000010000000110001000010101010001010101011101001111010100111110000001000000001000000000000000000000000010000010100000000000010001000000000000000100001000000010000000000000000000000000010000000000001000010000000000001001010001000000100000100010100000100001110101100000000000000000000100000000000000000000000010000000011000000000000000000000000000000000100000000000000101000000010000000000000000000000000000100100000000000000000000000000001000000000000010000000000000010000000000100000000000000000000000000000000001010010000000001001010000010110000000000000000000000000010000000000000000000000000000000000000001000000000000000000000000000011000000000000000000000001100001000000110000000000000001010010000110000000000001000000000000000010000100000100001000000000001100000100000000010000000000001000000000000010010000000000000000000000000000100000000000000000000000000100000000000100001100000100011010100101000000000000001000000000001000000000000001000000000000100001000001000000000000100100000000000010000101000001000000000100000000000000010000000000000001110010000010000100010010110000000000000111000000010\"\n",
    "\n",
    "def load(text, w=40):\n",
    "    return np.array([float(a) for a in text]).reshape((w, -1))\n",
    "\n",
    "A = load(Atext)\n",
    "\n",
    "plt.imshow(A)\n",
    "plt.show()"
   ]
  },
  {
   "cell_type": "markdown",
   "metadata": {},
   "source": [
    "## 1.1. Prepare a stochastic matrix M based on adjacency matrix A\n",
    "\n",
    "Write the code which norms matrix A column-wise. Add $\\frac{1}{N}$ factor where outdegree is 0.\n",
    "\n",
    "You can refer to wikipedia's [Google Matrix](https://en.wikipedia.org/wiki/Google_matrix#Adjacency_matrix_A_and_Markov_matrix_S) article. In construction algorthm this matrix is referred as `Markov matrix S`."
   ]
  },
  {
   "cell_type": "code",
   "execution_count": 5,
   "metadata": {},
   "outputs": [],
   "source": [
    "M = A.copy()\n",
    "for i in range(M.shape[0]):\n",
    "    for j in range(M.shape[1]):\n",
    "        if M[i][j] == 0:\n",
    "            M[i][j] = 1/(M.shape[0]*M.shape[0])\n",
    "M = M / M.sum(axis=0)\n",
    "# your code is here. Resulting matrix is shown below."
   ]
  },
  {
   "cell_type": "code",
   "execution_count": 6,
   "metadata": {},
   "outputs": [
    {
     "data": {
      "image/png": "[encoded data removed]",
      "text/plain": [
       "<Figure size 432x288 with 1 Axes>"
      ]
     },
     "metadata": {
      "needs_background": "light"
     },
     "output_type": "display_data"
    }
   ],
   "source": [
    "plt.imshow(M)\n",
    "plt.show()"
   ]
  },
  {
   "cell_type": "markdown",
   "metadata": {},
   "source": [
    "## 1.2. Prepare Google matrix\n",
    "\n",
    "Compute Google matrix as described in construction block of [Google Matrix](https://en.wikipedia.org/wiki/Google_matrix#Construction_of_Google_matrix_G) article. \n",
    "\n",
    "`S` there is our matrix $\\mathcal{M}$.\n",
    "\n",
    "$\\alpha$ is a damping factor, which is accepted to be exactly `0.85`."
   ]
  },
  {
   "cell_type": "code",
   "execution_count": 7,
   "metadata": {},
   "outputs": [],
   "source": [
    "def to_google(M, alpha=0.85):\n",
    "    return alpha * M + (1-alpha)*(1/(M.sum()))"
   ]
  },
  {
   "cell_type": "code",
   "execution_count": 8,
   "metadata": {},
   "outputs": [],
   "source": [
    "G = to_google(M)"
   ]
  },
  {
   "cell_type": "code",
   "execution_count": 9,
   "metadata": {},
   "outputs": [
    {
     "data": {
      "text/plain": [
       "array([1., 1., 1., 1., 1., 1., 1., 1., 1., 1., 1., 1., 1., 1., 1., 1., 1.,\n",
       "       1., 1., 1., 1., 1., 1., 1., 1., 1., 1., 1., 1., 1., 1., 1., 1., 1.,\n",
       "       1., 1., 1., 1., 1., 1.])"
      ]
     },
     "execution_count": 9,
     "metadata": {},
     "output_type": "execute_result"
    }
   ],
   "source": [
    "G.sum(axis=0)"
   ]
  },
  {
   "cell_type": "code",
   "execution_count": 10,
   "metadata": {},
   "outputs": [
    {
     "data": {
      "image/png": "[encoded data removed]",
      "text/plain": [
       "<Figure size 432x288 with 1 Axes>"
      ]
     },
     "metadata": {
      "needs_background": "light"
     },
     "output_type": "display_data"
    }
   ],
   "source": [
    "plt.imshow(G)\n",
    "plt.show()"
   ]
  },
  {
   "cell_type": "markdown",
   "metadata": {},
   "source": [
    "## 1.3. Solve naively\n",
    "\n",
    "Everything is ready for solution. One way -- is to use algeraic solution of the equation.\n",
    "\n",
    "$\\mathbf{R} = d \\mathcal{M}\\mathbf{R} + \\frac{1-d}{N} \\mathbf{1}$\n",
    "\n",
    "Solution is given [in this section](https://en.wikipedia.org/wiki/PageRank#Algebraic)."
   ]
  },
  {
   "cell_type": "code",
   "execution_count": 169,
   "metadata": {},
   "outputs": [
    {
     "data": {
      "text/plain": [
       "(40, 40)"
      ]
     },
     "execution_count": 169,
     "metadata": {},
     "output_type": "execute_result"
    }
   ],
   "source": [
    "G.shape"
   ]
  },
  {
   "cell_type": "code",
   "execution_count": null,
   "metadata": {},
   "outputs": [],
   "source": []
  },
  {
   "cell_type": "code",
   "execution_count": 11,
   "metadata": {},
   "outputs": [
    {
     "data": {
      "text/plain": [
       "array([13,  4, 18, 39, 29, 34, 25,  7, 11, 12,  3, 17, 21,  0, 31, 37, 14,\n",
       "       28, 38,  6, 36, 20,  5, 35, 32, 15,  2, 30, 16, 24, 22, 23, 19,  9,\n",
       "        1, 10, 33,  8, 27, 26], dtype=int64)"
      ]
     },
     "execution_count": 11,
     "metadata": {},
     "output_type": "execute_result"
    }
   ],
   "source": [
    "# your code here\n",
    "N = G.shape[0]\n",
    "d = 0.85\n",
    "\n",
    "R = np.linalg.inv((np.eye(N, N) - d * M)).dot(np.ones((N, 1)) * (1 - d) / N)\n",
    "\n",
    "np.argsort(R.reshape(-1))[::-1]"
   ]
  },
  {
   "cell_type": "markdown",
   "metadata": {},
   "source": [
    "## 1.4. Solve with power method\n",
    "\n",
    "You can also use [Power method](https://en.wikipedia.org/wiki/Power_iteration) to obtain dominating eigenvector.\n",
    "$R = G^{N}v_{random}$"
   ]
  },
  {
   "cell_type": "code",
   "execution_count": 12,
   "metadata": {},
   "outputs": [
    {
     "ename": "NameError",
     "evalue": "name 'v' is not defined",
     "output_type": "error",
     "traceback": [
      "\u001b[1;31m---------------------------------------------------------------------------\u001b[0m",
      "\u001b[1;31mNameError\u001b[0m                                 Traceback (most recent call last)",
      "\u001b[1;32m<ipython-input-12-60a4c3a87925>\u001b[0m in \u001b[0;36m<module>\u001b[1;34m\u001b[0m\n\u001b[0;32m      2\u001b[0m \u001b[1;33m\u001b[0m\u001b[0m\n\u001b[0;32m      3\u001b[0m \u001b[1;31m# assert np.allclose(v, R)\u001b[0m\u001b[1;33m\u001b[0m\u001b[1;33m\u001b[0m\u001b[1;33m\u001b[0m\u001b[0m\n\u001b[1;32m----> 4\u001b[1;33m \u001b[0mprint\u001b[0m\u001b[1;33m(\u001b[0m\u001b[0mnp\u001b[0m\u001b[1;33m.\u001b[0m\u001b[0margsort\u001b[0m\u001b[1;33m(\u001b[0m\u001b[0mv\u001b[0m\u001b[1;33m.\u001b[0m\u001b[0mreshape\u001b[0m\u001b[1;33m(\u001b[0m\u001b[1;33m-\u001b[0m\u001b[1;36m1\u001b[0m\u001b[1;33m)\u001b[0m\u001b[1;33m)\u001b[0m\u001b[1;33m)\u001b[0m\u001b[1;33m\u001b[0m\u001b[1;33m\u001b[0m\u001b[0m\n\u001b[0m",
      "\u001b[1;31mNameError\u001b[0m: name 'v' is not defined"
     ]
    }
   ],
   "source": [
    "# your code here\n",
    "\n",
    "# assert np.allclose(v, R)\n",
    "print(np.argsort(v.reshape(-1)))"
   ]
  },
  {
   "cell_type": "code",
   "execution_count": 196,
   "metadata": {},
   "outputs": [
    {
     "data": {
      "text/plain": [
       "array([13, 18,  4, 39, 34, 29, 25, 11,  7, 12, 17,  0, 31, 37, 38,  6, 28,\n",
       "       14, 21, 36,  3,  5, 35, 20, 15,  2, 32, 30, 16, 24, 23, 22, 19,  9,\n",
       "       10, 33,  1,  8, 26, 27], dtype=int64)"
      ]
     },
     "execution_count": 196,
     "metadata": {},
     "output_type": "execute_result"
    }
   ],
   "source": [
    "np.argsort(v.reshape(-1))[::-1]"
   ]
  },
  {
   "cell_type": "markdown",
   "metadata": {},
   "source": [
    "## 1.5. Built-in check\n",
    "\n",
    "This code below allows you to check your solution, but we do not accept it as a solution."
   ]
  },
  {
   "cell_type": "code",
   "execution_count": 184,
   "metadata": {},
   "outputs": [
    {
     "data": {
      "text/plain": [
       "array([13,  4, 18, 39, 29, 34, 11, 12,  3, 25, 14, 17, 28,  0, 38,  7,  6,\n",
       "       31, 37, 36, 20, 21, 35,  5, 30, 15,  2, 16, 32, 24, 22, 23,  9, 19,\n",
       "        1, 10, 33, 27,  8, 26], dtype=int64)"
      ]
     },
     "execution_count": 184,
     "metadata": {},
     "output_type": "execute_result"
    }
   ],
   "source": [
    "evals, evecs = np.linalg.eig(G)\n",
    "np.argsort(evecs[:, 0])"
   ]
  },
  {
   "cell_type": "markdown",
   "metadata": {},
   "source": [
    "# 2. Ranking\n",
    "\n",
    "First should come the documents with *the highest* PageRank."
   ]
  },
  {
   "cell_type": "code",
   "execution_count": 15,
   "metadata": {},
   "outputs": [
    {
     "name": "stdout",
     "output_type": "stream",
     "text": [
      "13 \t Information retrieval\n",
      "4 \t Database\n",
      "18 \t Latent semantic analysis\n",
      "39 \t World Wide Web\n",
      "29 \t Semantic search\n",
      "34 \t Text mining\n",
      "25 \t Relevance (information retrieval)\n",
      "7 \t Dimensionality reduction\n",
      "11 \t Hypertext\n",
      "12 \t Image retrieval\n",
      "3 \t Content-based image retrieval\n",
      "17 \t Latent Dirichlet allocation\n",
      "21 \t Netflix Prize\n",
      "0 \t Bag-of-words model\n",
      "31 \t Sentiment analysis\n",
      "37 \t Vector space model\n",
      "14 \t Information system\n",
      "28 \t Search engines\n",
      "38 \t Web crawler\n",
      "6 \t Desktop search\n",
      "36 \t Tf–idf\n",
      "20 \t Multimedia information retrieval\n",
      "5 \t Deep learning\n",
      "32 \t Similarity search\n",
      "35 \t Text Retrieval Conference\n",
      "15 \t K-nearest neighbors algorithm\n",
      "2 \t Cluster analysis\n",
      "30 \t Semantic web\n",
      "16 \t Language model\n",
      "24 \t Recommender systems\n",
      "22 \t Netflix\n",
      "23 \t Ranking (information retrieval)\n",
      "19 \t Low-rank approximation\n",
      "9 \t Eigenvector\n",
      "33 \t Site search\n",
      "1 \t Bayes' theorem\n",
      "10 \t Full-text search\n",
      "8 \t Discounted Cumulative Gain\n",
      "27 \t Search algorithm\n",
      "26 \t Rocchio algorithm\n"
     ]
    }
   ],
   "source": [
    "# your code here\n",
    "\n"
   ]
  }
 ],
 "metadata": {
  "kernelspec": {
   "display_name": "Python 3",
   "language": "python",
   "name": "python3"
  },
  "language_info": {
   "codemirror_mode": {
    "name": "ipython",
    "version": 3
   },
   "file_extension": ".py",
   "mimetype": "text/x-python",
   "name": "python",
   "nbconvert_exporter": "python",
   "pygments_lexer": "ipython3",
   "version": "3.8.8"
  }
 },
 "nbformat": 4,
 "nbformat_minor": 4
}
