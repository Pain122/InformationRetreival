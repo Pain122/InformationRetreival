{
 "cells": [
  {
   "cell_type": "markdown",
   "metadata": {},
   "source": [
    "# 1. [60+10] Language and Topic models\n",
    "\n",
    "A common suggestion to users for coming up with good queries is to think of words that would likely appear in a relevant document, and to use those words as the query. The language modeling approach to IR directly models this idea: a document is a good match to a query if the document model is likely to generate the query, which will in turn happen if the document contains the query words often. \n",
    "\n",
    "You will score documents with respect to user query using language models and also get some experience with topic modelling.\n",
    "\n",
    "## 1.0. [5] Loading data\n",
    "\n",
    "We use the dataset we already used once - [this topic-modeling dataset](https://code.google.com/archive/p/topic-modeling-tool/downloads) ([or from github](https://github.com/IUCVLab/information-retrieval/blob/main/datasets/topic-modelling.zip))."
   ]
  },
  {
   "cell_type": "code",
   "execution_count": 1,
   "metadata": {},
   "outputs": [
    {
     "name": "stdout",
     "output_type": "stream",
     "text": [
      "# of documents 15002\n"
     ]
    }
   ],
   "source": [
    "# TODO: read the dataset\n",
    "import os\n",
    "\n",
    "all_data = []\n",
    "labels = []\n",
    "files = ['testdata_braininjury_10000docs.txt', 'testdata_news_economy_2073docs.txt', 'testdata_news_fuel_845docs.txt', 'testdata_news_music_2084docs.txt',]\n",
    "\n",
    "for f in files:\n",
    "    with open(os.path.join('./Part1', f), 'r') as file:\n",
    "        data = file.read().split('\\n')[:-1]\n",
    "        all_data+=data\n",
    "        if f == 'testdata_braininjury_10000docs.txt':\n",
    "            labels += ['brain'] * len(data)\n",
    "        if f == 'testdata_news_economy_2073docs.txt':\n",
    "            labels += ['economy'] * len(data)\n",
    "        if f == 'testdata_news_fuel_845docs.txt':\n",
    "            labels += ['fuel']*len(data)\n",
    "        if f == 'testdata_news_music_2084docs.txt':\n",
    "            labels += ['music']*len(data)\n",
    "        \n",
    "\n",
    "print(\"# of documents\", len(all_data))\n",
    "assert len(all_data) == 15002"
   ]
  },
  {
   "cell_type": "markdown",
   "metadata": {},
   "source": [
    "## 1.1. [55] Ranking Using Language Models\n",
    "Our goal is to rank documents by $P(d|q)$, where the probability of a document is interpreted as the likelihood that it is relevant to the query. \n",
    "\n",
    "Using Bayes rule: $P(d|q) = \\frac{P(q|d)P(d)}{P(q)}$\n",
    "\n",
    "$P(q)$ is the same for all documents, and so can be ignored. The prior probability of a document $P(d)$ is often treated as uniform across all $d$'s and so it can also be ignored. What does it mean? \n",
    "\n",
    "It means that computing $P(q|d)$ for different documents we can compare how relevant are they to the query. How can we estimate $P(q|d)$?\n",
    "\n",
    "$P(q|d)$ can be estimated as:\n",
    "\n",
    "![](https://i.imgur.com/BEIMAC1.png)\n",
    "\n",
    "where $M_d$ is the language model of document $d$, $tf_{t,d}$ is the term frequency of term $t$ in document $d$, and $L_d$ is the number of tokens in document $d$. That is, we just count up how often each word occurred, and divide by the total number of words in the document $d$.\n",
    "\n",
    "### 1.1.1. [15] Build TDM (or DTM)\n",
    "\n",
    "The first thing we need to do is to build a term-document matrix for tour dataset."
   ]
  },
  {
   "cell_type": "code",
   "execution_count": 2,
   "metadata": {},
   "outputs": [],
   "source": [
    "# TODO: build term-document matrix for the dataset\n",
    "# Used from the Contest#4\n",
    "from sklearn.feature_extraction.text import CountVectorizer\n",
    "import numpy as np\n",
    "\n",
    "vect = CountVectorizer(\n",
    "            analyzer='word',\n",
    "            stop_words=None,\n",
    "            token_pattern=r\"(?u)\\b\\w+\\b\"    # (?u)\\b\\w\\w+\\b -- default pattern: (?u) -- unicode modifier, \\b -- word border, \\w\\w+ = 2+ letters\n",
    ")\n",
    "\n",
    "TDM = vect.fit_transform(all_data).todense().astype(np.float32)"
   ]
  },
  {
   "cell_type": "markdown",
   "metadata": {},
   "source": [
    "### 1.1.2. [30] Smoothing\n",
    "\n",
    "Now, you need to implement the abovementioned logic in the `lm_rank_documents` function below. Do you see any potential problems?\n",
    "\n",
    "Yes, data sparsity - we don't expect to meet each term in each doc, so, in most cases, we will get zero scores, which is not what we really want.\n",
    "\n",
    "The solution is smooting.\n",
    "\n",
    "One option is *[additive smoothing](https://en.wikipedia.org/wiki/Additive_smoothing)* - adding atoken_patternmall number (0 to 1) to the observed counts and renormalizing to give a probability distribution.\n",
    "\n",
    "Another option is called [Jelinek-Mercer smoothing](http://mlwiki.org/index.php/Smoothing_for_Language_Models#Jelinek-Mercer_Smoothing) - a simple idea that works well in practice is to use a mixture between a document-specific distribution and distribution estimated from the entire collection:\n",
    "\n",
    "![](https://i.imgur.com/8Qv41Wp.png)\n",
    "\n",
    "where 0 < λ < 1 and $M_c$ is a language model built from the entire document collection.\n",
    "\n",
    "Refer to [*Chapter 12*](https://nlp.stanford.edu/IR-book/html/htmledition/language-models-for-information-retrieval-1.html) for the detailed explanation.\n",
    "\n",
    "\n",
    "You are going to apply both in your `lm_rank_documents` function. This function takes TDM or DTM as an input, and ranks all documents \"building\" a language model for each document, returning relative probabilities of query being generated by a document as a document's score."
   ]
  },
  {
   "cell_type": "code",
   "execution_count": 3,
   "metadata": {},
   "outputs": [],
   "source": [
    "import numpy as np\n",
    "\n",
    "def lm_rank_documents(query, tdm, k=5, smoothing='additive', param=0.001):\n",
    "    # TODO: score each document in tdm using this document's language model\n",
    "    # implement two types of smoothing. Looks up term frequencies in tdm\n",
    "    # return document scores in a convenient form\n",
    "    # param is alpha for additive / lambda for jelinek-mercer\n",
    "    nonzero = np.nonzero(query)\n",
    "    smoothed_tdm = np.copy(tdm[:, nonzero[0]])\n",
    "    if smoothing == 'additive':\n",
    "        for i in range(smoothed_tdm.shape[0]):\n",
    "            smoothed_tdm[i] = (smoothed_tdm[i] + param) / (TDM[i].sum() + len(nonzero)*param)\n",
    "    if smoothing == 'jelinek-mercer':\n",
    "        distribution = (1-param) * (smoothed_tdm.sum(axis=0) / tdm.sum())\n",
    "        for i in range(smoothed_tdm.shape[0]):\n",
    "            smoothed_tdm[i] = param*(smoothed_tdm[i]) / (tdm[i].sum()) + distribution\n",
    "    result = smoothed_tdm.prod(axis=1)\n",
    "    result = np.array(list(result.flat))\n",
    "    # https://stackoverflow.com/questions/6910641/how-do-i-get-indices-of-n-maximum-values-in-a-numpy-array\n",
    "    # Getting 5 best indeces\n",
    "    best = np.argsort(result)[:-(k+1):-1]\n",
    "    scores = [(result[x], x) for x in best]\n",
    "    return scores"
   ]
  },
  {
   "cell_type": "markdown",
   "metadata": {},
   "source": [
    "### 1.1.3. [10] Testing\n",
    "\n",
    "Check if this type of ranking gives meaningful results. For each query output document `category`, `doc_id`, `score`, and the *beginning* of the document, as it is shown below. Analyze if categories and contents match the queries. "
   ]
  },
  {
   "cell_type": "code",
   "execution_count": 4,
   "metadata": {},
   "outputs": [
    {
     "name": "stdout",
     "output_type": "stream",
     "text": [
      "user query: piano concert\n",
      "\n",
      "search results:\n",
      "music 13834 4.6765235310886055e-05\n",
      "sometimes the most satisfying renovation the one that doesn happen two years ago geoffrey menin boug...\n",
      "music 13808 3.6641038605012e-05\n",
      "playing carnegie hall concert performer dream when word leaked out that america most famous concert ...\n",
      "music 13588 3.3066280593629926e-05\n",
      "igor kipnis the virtuoso harpsichordist whose busy concert recording career made him the instrument ...\n",
      "music 14912 1.3656912415171973e-05\n",
      "leo ornstein russian born composer and pianist who the early 20th century was leading figure the ame...\n",
      "music 12926 1.0707696674217004e-05\n",
      "felt like was going church marry guy never met said the jazz violinist regina carter the metaphorica...\n",
      "\n",
      "\n",
      "user query: symptoms of head trauma\n",
      "\n",
      "search results:\n",
      "brain 5111 0.00012506246275734156\n",
      "head trauma ...\n",
      "brain 9355 4.520749644143507e-05\n",
      "incidental finding chiari malformation with progression symptoms after head trauma case report chiar...\n",
      "brain 8740 3.707407086039893e-05\n",
      "imaging head trauma ...\n",
      "brain 1490 3.6015957448398694e-05\n",
      "conversion symptomatic chiari malformation after minor head neck trauma objective the chiari malform...\n",
      "brain 1998 2.6335019356338307e-05\n",
      "characteristics that distinguish abusive from nonabusive head trauma among young children who underw...\n",
      "\n",
      "\n",
      "user query: wall street journal\n",
      "\n",
      "search results:\n",
      "music 14506 2.3513993596679938e-07\n",
      "daniel pearl the wall street journal reporter kidnapped one month ago islamic extremists pakistan ha...\n",
      "music 14505 2.3513993596679938e-07\n",
      "daniel pearl the wall street journal reporter kidnapped one month ago islamic extremists pakistan ha...\n",
      "economy 10741 1.6604667507635895e-07\n",
      "atlanta investors were confronted with mixed signals about the profit outlook wednesday and chose wi...\n",
      "economy 10945 1.5946248765885684e-07\n",
      "atlanta investors already having second thoughts about the stock market added enron look alikes thei...\n",
      "fuel 12430 1.1799927790434594e-07\n",
      "stocks fell precipitously tuesday sending two the major indexes their lowest levels since november i...\n",
      "\n",
      "\n"
     ]
    }
   ],
   "source": [
    "def process_query(raw_query):\n",
    "    # TODO: process user query and print search results including document category, id, score, and some part of it\n",
    "    print(f'user query: {raw_query}')\n",
    "    q_vec = np.array(list(vect.transform([raw_query]).todense().flat)) \n",
    "    results = lm_rank_documents(q_vec, TDM)\n",
    "    print('')\n",
    "    print('search results:')\n",
    "    for doc in results:\n",
    "        score = doc[0]\n",
    "        idx = doc[1]\n",
    "        topic = labels[idx]\n",
    "        text = all_data[idx][:100] + '...'\n",
    "        print(f\"{topic} {idx} {score}\")\n",
    "        print(text)\n",
    "    pass\n",
    "    \n",
    "\n",
    "user_queries = [\"piano concert\", \"symptoms of head trauma\", \"wall street journal\"]\n",
    "for q in user_queries:\n",
    "    process_query(q)\n",
    "    print(\"\\n\")"
   ]
  },
  {
   "cell_type": "markdown",
   "metadata": {},
   "source": [
    "Sample results can look like this (if collapsed, click on 3 dots):"
   ]
  },
  {
   "cell_type": "markdown",
   "metadata": {
    "tags": []
   },
   "source": [
    "```\n",
    "user query: piano concert\n",
    "\n",
    "search results:\n",
    "music 13330 0.012384164490679759\n",
    "atlanta prominent midtown intersection one step closer becoming major cultural landmark the atlanta ...\n",
    "economy 11335 0.012384164490679759\n",
    "atlanta prominent midtown intersection one step closer becoming major cultural landmark the atlanta ...\n",
    "music 12926 0.011382499792705511\n",
    "felt like was going church marry guy never met said the jazz violinist regina carter the metaphorica...\n",
    "music 14390 0.010661589922122\n",
    "hailed los angeles brightest flower its flashiest ship sail its keenest architectural triumph perhap...\n",
    "music 13818 0.010549141787975117\n",
    "everything was finished sept the super bowl logo would reflection new orleans featuring streetcar an...\n",
    "\n",
    "\n",
    "user query: symptoms of head trauma\n",
    "\n",
    "search results:\n",
    "brain_injury 7319 0.06022877378376099\n",
    "the direct economic burden blunt and penetrating trauma managed care population background although ...\n",
    "brain_injury 6987 0.05854539395767944\n",
    "history reported head trauma sample women substance abuse treatment objectives determine the prevale...\n",
    "brain_injury 5257 0.05760140208255336\n",
    "violent head trauma china report cases background the occurrence violent trauma has recently increas...\n",
    "brain_injury 1536 0.055365767080148634\n",
    "mild head trauma and chronic headaches returning soldiers objective determine the incidence and type...\n",
    "brain_injury 8874 0.05379997937839304\n",
    "maxillofacial trauma major trauma patients background trauma has been identified major public health...\n",
    "\n",
    "\n",
    "user query: wall street journal\n",
    "\n",
    "search results:\n",
    "economy 11294 0.027288833622119528\n",
    "these business stories for release tuesday january are moving today clients the new york times news ...\n",
    "economy 11295 0.027288833622119528\n",
    "these business stories for release tuesday january are moving today clients the new york times news ...\n",
    "music 14641 0.026716049665405375\n",
    "these feature stories are moving today clients the new york times news service stories are for relea...\n",
    "music 14640 0.026716049665405375\n",
    "these feature stories are moving today clients the new york times news service stories are for relea...\n",
    "economy 11297 0.025763725974814314\n",
    "these feature stories are moving today clients the new york times news service stories are for relea...\n",
    "```"
   ]
  },
  {
   "cell_type": "markdown",
   "metadata": {},
   "source": [
    "## 1.2. [+10] Topic modeling\n",
    "\n",
    "Now let's use *Latent Dirichlet Allocation* to identify topics in this collection and check if they match the original topics (fuel, economy, etc.). Go through the tutorial [here](https://towardsdatascience.com/end-to-end-topic-modeling-in-python-latent-dirichlet-allocation-lda-35ce4ed6b3e0) and apply the ideas there to our dataset. "
   ]
  },
  {
   "cell_type": "code",
   "execution_count": null,
   "metadata": {},
   "outputs": [],
   "source": [
    "# TODO: apply LDA to our dataset and output the resulting categories \n"
   ]
  },
  {
   "cell_type": "markdown",
   "metadata": {},
   "source": [
    "We expect to see something like this (if collapsed, click on 3 dots):"
   ]
  },
  {
   "cell_type": "markdown",
   "metadata": {
    "tags": []
   },
   "source": [
    "```\n",
    "Topic #0:\n",
    "brain injury patients tbi traumatic study cerebral results severe group cognitive clinical pressure imaging following outcome control using children test\n",
    "\n",
    "Topic #1:\n",
    "new said york news atlanta like times year service time people undated just music journal constitution city says com years\n",
    "\n",
    "Topic #2:\n",
    "patients injury injuries trauma head study results traumatic brain treatment cases patient fractures years case outcome methods clinical tbi surgery\n",
    "\n",
    "Topic #3:\n",
    "said year bush percent new enron company president government people economy years million state companies states economic united time billion\n",
    "```"
   ]
  },
  {
   "cell_type": "markdown",
   "metadata": {},
   "source": [
    "# 2. [40+10] Sugges_\n",
    "\n",
    "One of the strategies to improve user experience is to provide user with hints, or, otherwise, to autocomplete his queries. Let's consider suggest.\n",
    "\n",
    "Today we will practice generating suggestions using [Trie](https://en.wikipedia.org/wiki/Trie) datastructure (prefix tree), see the example below.\n",
    "\n",
    "Plan of your homework:\n",
    "\n",
    "1. Build Trie based on real search query data, provided by AOL company;\n",
    "2. Generate suggestion based on trie;\n",
    "3. Measure suggestion speed;\n",
    "4. (+) Optionally add spellcheck to suggest.\n",
    "\n",
    "\n",
    "![image](https://www.ritambhara.in/wp-content/uploads/2017/05/Screen-Shot-2017-05-01-at-4.01.38-PM.png)\n",
    "\n",
    "## 2.0. Install Trie data structure support\n",
    "\n",
    "You are free to use any library implementation of Trie, as well as the one we suggest (read the docs before asking any questions!): https://github.com/google/pygtrie"
   ]
  },
  {
   "cell_type": "code",
   "execution_count": 15,
   "metadata": {},
   "outputs": [
    {
     "name": "stdout",
     "output_type": "stream",
     "text": [
      "Requirement already satisfied: pygtrie in c:\\users\\pavel\\appdata\\local\\programs\\python\\python38\\lib\\site-packages (2.4.2)"
     ]
    },
    {
     "name": "stderr",
     "output_type": "stream",
     "text": [
      "WARNING: You are using pip version 21.0.1; however, version 21.1.1 is available.\n",
      "You should consider upgrading via the 'c:\\users\\pavel\\appdata\\local\\programs\\python\\python38\\python.exe -m pip install --upgrade pip' command.\n"
     ]
    },
    {
     "name": "stdout",
     "output_type": "stream",
     "text": [
      "\n"
     ]
    }
   ],
   "source": [
    "!pip install pygtrie"
   ]
  },
  {
   "cell_type": "markdown",
   "metadata": {},
   "source": [
    "### 2.0.1. Check it works and understand the example"
   ]
  },
  {
   "cell_type": "code",
   "execution_count": 5,
   "metadata": {},
   "outputs": [
    {
     "name": "stdout",
     "output_type": "stream",
     "text": [
      "CharTrie(this is 1: A, this is 2: B, that is 3: C)\n",
      "Node = False\n",
      "Subtree = True\n",
      "this is 1 ~ A\n",
      "this is 2 ~ B\n"
     ]
    }
   ],
   "source": [
    "import pygtrie\n",
    "t = pygtrie.CharTrie()\n",
    "\n",
    "# trie can be considered as a form of organizing a set of map\n",
    "t[\"this is 1\"] = \"A\"\n",
    "t[\"this is 2\"] = \"B\"\n",
    "t[\"that is 3\"] = \"C\"\n",
    "\n",
    "print(t)\n",
    "\n",
    "# \"this\" string is present in a set\n",
    "n = t.has_node('this') == pygtrie.Trie.HAS_VALUE\n",
    "# \"this\" prefix is present in a set\n",
    "s = t.has_node('this') == pygtrie.Trie.HAS_SUBTRIE\n",
    "\n",
    "print(f\"Node = {n}\\nSubtree = {s}\")\n",
    "\n",
    "# iterate a subtree\n",
    "for key, val in t.iteritems(\"this\"):\n",
    "    print(key, '~', val)"
   ]
  },
  {
   "cell_type": "markdown",
   "metadata": {},
   "source": [
    "## 2.1. Build a trie upon a dataset\n",
    "\n",
    "### 2.1.1. [5] Read dataset\n",
    "\n",
    "Download the [dataset](https://github.com/IUCVLab/information-retrieval/tree/main/datasets/aol) (we provide only the first part of the original data for simplicity (~3.5 mln queries)).\n",
    "\n",
    "Explore the data, see readme file. Load the dataset."
   ]
  },
  {
   "cell_type": "code",
   "execution_count": 6,
   "metadata": {},
   "outputs": [],
   "source": [
    "import pandas as pd\n",
    "\n",
    "aol_data = pd.read_csv('./Part2/user-ct-test-collection-01.txt', sep='\\t')\n",
    "\n",
    "#TODO: Read the dataset, e.g. as pandas dataframe\n",
    "\n",
    "assert aol_data.shape[0] == 3558411, \"Dataset size doesnt' match\""
   ]
  },
  {
   "cell_type": "markdown",
   "metadata": {},
   "source": [
    "### 2.1.2. [10] Build Trie\n",
    "\n",
    "We want suggest function to be **non-sensitive to stop words** because we don't want to upset the user if he confuses/omits prepositions, for example. Consider `public events in Innopolis` vs `public events at Innopolis` or `public events Innopolis` - they all mean the same.\n",
    "\n",
    "Build Trie based on the dataset, **storing query statistics such as query frequency, urls and ranks in nodes**. Some queries may not have associated urls, others may have multiple ranked urls, consider this."
   ]
  },
  {
   "cell_type": "code",
   "execution_count": 7,
   "metadata": {},
   "outputs": [],
   "source": [
    "class Value:\n",
    "    def __init__(self, key):\n",
    "        self.freq = 1\n",
    "        self.key = key\n",
    "        self.urls = []\n",
    "        self.ranks = []\n",
    "        \n",
    "    def __str__ (self):\n",
    "        return 'Value(freq=' + str(self.freq) + ' ,urls=' + str(self.urls) + ' ,ranks=' + str(self.ranks) + ')'"
   ]
  },
  {
   "cell_type": "code",
   "execution_count": 9,
   "metadata": {},
   "outputs": [],
   "source": [
    "import numpy as np\n",
    "\n",
    "# If there is no url -> suggest the key\n",
    "# Sorting queries by their count\n",
    "# Approximately 20 ms\n",
    "\n",
    "aol_trie = pygtrie.CharTrie()\n",
    "\n",
    "stops = set('a on at of to is from for and with using the in &'.split())\n",
    "\n",
    "for i in range(aol_data.shape[0]):\n",
    "    key = str(aol_data.iloc[i, 1])\n",
    "    if key:\n",
    "        filtered_key = u\" \".join(filter(lambda x: x not in stops, key.split(' ')))\n",
    "        rank = aol_data.iloc[i][3]\n",
    "        url = aol_data.iloc[i][4]\n",
    "        if filtered_key not in aol_trie:\n",
    "            aol_trie[filtered_key] = Value(key)\n",
    "        else:\n",
    "            aol_trie[filtered_key].freq+=1\n",
    "        if not pd.isna(url):\n",
    "            aol_trie[filtered_key].urls.append(url)\n",
    "            aol_trie[filtered_key].ranks.append(rank)\n",
    "\n",
    "#TODO: build trie based on dataset"
   ]
  },
  {
   "cell_type": "code",
   "execution_count": 10,
   "metadata": {},
   "outputs": [
    {
     "name": "stdout",
     "output_type": "stream",
     "text": [
      "sample question surveys ~ Value(freq=5 ,urls=['http://www.surveyconnect.com', 'http://www.custominsight.com', 'http://www.askemployees.com', 'http://www.lg-employers.gov.uk'] ,ranks=[7.0, 4.0, 10.0, 1.0])\n",
      "sample questions immigration interview ~ Value(freq=1 ,urls=[] ,ranks=[])\n",
      "sample questions interview ~ Value(freq=1 ,urls=['http://www.quintcareers.com'] ,ranks=[1.0])\n",
      "sample questions family interview ~ Value(freq=3 ,urls=['http://www.grandparents-day.com', 'http://www.quintcareers.com', 'http://jobsearchtech.about.com'] ,ranks=[2.0, 5.0, 3.0])\n",
      "sample questions sociology race ethnicity ~ Value(freq=1 ,urls=[] ,ranks=[])\n",
      "sample questions biology ~ Value(freq=2 ,urls=['http://www.utexas.edu', 'http://www.troy.k12.ny.us'] ,ranks=[3.0, 6.0])\n",
      "sample questions us citizenship test ~ Value(freq=1 ,urls=['http://uscis.gov'] ,ranks=[1.0])\n",
      "sample questionarie teaching evaluation ~ Value(freq=1 ,urls=[] ,ranks=[])\n",
      "sample questionnaire teaching evaluation ~ Value(freq=5 ,urls=['http://www.surveyconsole.com', 'http://www.usask.ca', 'http://teaching.berkeley.edu', 'http://www.flinders.edu.au', 'http://oregonstate.edu'] ,ranks=[1.0, 2.0, 6.0, 9.0, 10.0])\n",
      "sample questionnaire clinical research coordinators certification ~ Value(freq=1 ,urls=['http://www.pharmatech.com'] ,ranks=[9.0])\n"
     ]
    }
   ],
   "source": [
    "# test trie\n",
    "bag = []\n",
    "for key, val in aol_trie.iteritems(\"sample q\"):\n",
    "    print(key, '~', val)\n",
    "    \n",
    "    #NB: here we assume you store urls in a list field. But you can do something different. \n",
    "    bag += val.urls\n",
    "    \n",
    "    assert \"sample question\" in key, \"All examples have `sample question` substring\"\n",
    "    assert key[:len(\"sample question\")] == \"sample question\", \"All examples have `sample question` starting string\"\n",
    "\n",
    "for url in [\"http://www.surveyconnect.com\", \"http://www.custominsight.com\", \n",
    "            \"http://jobsearchtech.about.com\", \"http://www.troy.k12.ny.us\",\n",
    "            \"http://www.flinders.edu.au\", \"http://uscis.gov\"]:\n",
    "    assert url in bag, \"This url should be in a try\""
   ]
  },
  {
   "cell_type": "markdown",
   "metadata": {},
   "source": [
    "## 2.2. [10] Write a suggest function which is non-sensitive to stop words\n",
    "\n",
    "Suggest options for user query based on Trie you just built.\n",
    "Output results sorted by frequency, print query count for each suggestion. If there is an url available, print the url too. If multiple url-s are available, print the one with the highest rank (the less the better)."
   ]
  },
  {
   "cell_type": "code",
   "execution_count": 11,
   "metadata": {},
   "outputs": [
    {
     "name": "stdout",
     "output_type": "stream",
     "text": [
      "Query: trie\n",
      "Results:\n",
      "Suggestion: tried and true tattoo, Frequency: 5, Suggested url: http://www.tattoonow.com\n",
      "Suggestion: triest, Frequency: 3,\n",
      "Suggestion: triethanalomine, Frequency: 3, Suggested url: http://www.amazon.com\n",
      "Suggestion: tried and failed, Frequency: 2,\n",
      "Suggestion: tried and truechildren's consignment sale, Frequency: 1,\n"
     ]
    }
   ],
   "source": [
    "def complete_user_query(query, trie, top_k=5, verbose=True):\n",
    "    #TODO: suggest top_k options for a user query\n",
    "    # sort results by frequency, suggest first ranked urls if available\n",
    "    filtered_query = u\" \".join(filter(lambda x: x not in stops, query.split(' ')))\n",
    "    result = []\n",
    "    try:\n",
    "        for key, val in trie.iteritems(filtered_query):\n",
    "            result.append(val)\n",
    "    except KeyError:\n",
    "        return []\n",
    "    result = sorted(result, key=lambda value: value.freq, reverse=True)[:top_k]\n",
    "    res = []\n",
    "    for val in result:\n",
    "        res.append(val.key)\n",
    "        if verbose:\n",
    "            if val.urls:\n",
    "                max_rank = np.argmax(val.ranks)\n",
    "                print(f\"Suggestion: {val.key}, Frequency: {val.freq}, Suggested url: {val.urls[max_rank]}\")\n",
    "            else:\n",
    "                print(f\"Suggestion: {val.key}, Frequency: {val.freq},\")\n",
    "    return [val.key for val in result]\n",
    "\n",
    "        \n",
    "inp = \"trie\"\n",
    "print(\"Query:\", inp)\n",
    "print(\"Results:\")\n",
    "res = complete_user_query(inp, aol_trie)\n",
    "\n",
    "#NB we assume you return suggested query string only\n",
    "assert res[0] == \"tried and true tattoo\"\n",
    "assert res[1] == \"triest\" or res[1] == \"triethanalomine\""
   ]
  },
  {
   "cell_type": "markdown",
   "metadata": {},
   "source": [
    "## 2.3. [10] Measure suggest speed ##\n",
    "\n",
    "Check how fast your search is working. Consider changing your code if it takes too long on average."
   ]
  },
  {
   "cell_type": "code",
   "execution_count": 12,
   "metadata": {},
   "outputs": [
    {
     "name": "stdout",
     "output_type": "stream",
     "text": [
      "Average Execution times:\n",
      "Query: inf; Avg execution time(s): 0.012386909484863281\n",
      "Query: the best ; Avg execution time(s): 0.01717349338531494\n",
      "Query: information retrieval; Avg execution time(s): 3.985881805419922e-06\n",
      "Query: sherlock hol; Avg execution time(s): 4.6787738800048826e-05\n",
      "Query: carnegie mell; Avg execution time(s): 1.4949798583984375e-05\n",
      "Query: babies r; Avg execution time(s): 0.0001864142417907715\n",
      "Query: new york; Avg execution time(s): 0.012567383527755738\n",
      "Query: googol; Avg execution time(s): 1.823711395263672e-05\n",
      "Query: inter; Avg execution time(s): 0.017990535020828247\n",
      "Query: USA sta; Avg execution time(s): 0.0\n",
      "Query: Barbara ; Avg execution time(s): 0.0\n"
     ]
    }
   ],
   "source": [
    "import time\n",
    "\n",
    "inp_queries = [\"inf\", \"the best \", \"information retrieval\", \"sherlock hol\", \"carnegie mell\", \n",
    "               \"babies r\", \"new york\", \"googol\", \"inter\", \"USA sta\", \"Barbara \"]\n",
    "\n",
    "#TODO: measure avg execution time (in milliseconds) per query and print it out\n",
    "print('Average Execution times:')\n",
    "num_iters = 1000\n",
    "for query in inp_queries:\n",
    "    t_avg = 0\n",
    "    for i in range(num_iters):\n",
    "        start_time = time.time()\n",
    "        res = complete_user_query(query, aol_trie, verbose=False)\n",
    "        t_avg+=time.time()-start_time\n",
    "    print(f\"Query: {query}; Avg execution time(s): {t_avg/num_iters}\")"
   ]
  },
  {
   "cell_type": "markdown",
   "metadata": {},
   "source": [
    "## 2.4. [5] Question\n",
    "What is the empirical threshold for minimal prefix length for suggest query? Write your answer in a cell bellow and justify it (just few sentences)."
   ]
  },
  {
   "cell_type": "markdown",
   "metadata": {},
   "source": [
    "My answer would be the length of the prefix of approximately $3-4$ symbols. We can observe it from the graphs of the 3 queries below. There is little to none improvement after we have used 4 letters in the query."
   ]
  },
  {
   "cell_type": "code",
   "execution_count": 13,
   "metadata": {
    "jupyter": {
     "source_hidden": true
    },
    "tags": []
   },
   "outputs": [],
   "source": [
    "import time\n",
    "\n",
    "def avg_exec(query, trie, num_iters = 20):\n",
    "    t = []\n",
    "    for i in range(len(query)):\n",
    "        q = query[:i+1]\n",
    "        t_avg = 0\n",
    "        for i in range(num_iters):\n",
    "            start_time = time.time()\n",
    "            res = complete_user_query(q, trie, verbose=False)\n",
    "            t_avg+=time.time()-start_time\n",
    "        t.append(t_avg/num_iters)\n",
    "    return t"
   ]
  },
  {
   "cell_type": "code",
   "execution_count": 14,
   "metadata": {
    "jupyter": {
     "source_hidden": true
    },
    "tags": []
   },
   "outputs": [
    {
     "data": {
      "image/png": "[encoded data removed]",
      "text/plain": [
       "<Figure size 432x288 with 1 Axes>"
      ]
     },
     "metadata": {
      "needs_background": "light"
     },
     "output_type": "display_data"
    },
    {
     "data": {
      "image/png": "[encoded data removed]",
      "text/plain": [
       "<Figure size 432x288 with 1 Axes>"
      ]
     },
     "metadata": {
      "needs_background": "light"
     },
     "output_type": "display_data"
    },
    {
     "data": {
      "image/png": "[encoded data removed]",
      "text/plain": [
       "<Figure size 432x288 with 1 Axes>"
      ]
     },
     "metadata": {
      "needs_background": "light"
     },
     "output_type": "display_data"
    }
   ],
   "source": [
    "from matplotlib import pyplot as plt\n",
    "\n",
    "queries = [\"carnegie mell\", 'sherlock hol', 'babies r']\n",
    "for query in queries:\n",
    "    result = avg_exec(query, aol_trie)\n",
    "    plt.figure()\n",
    "    plt.title(f'Results for query \\\"{query}\\\"')\n",
    "    plt.plot(range(len(query)), result)\n",
    "    plt.xlabel('Number of letters')\n",
    "    plt.ylabel('Execution time (s)')\n",
    "plt.show()"
   ]
  },
  {
   "cell_type": "markdown",
   "metadata": {},
   "source": [
    "## 2.5. [+10] Add spellchecking to your suggest\n",
    "\n",
    "Try to make your search results as close as possible. Compare top-5 results of each query with top-5 results for corrected."
   ]
  },
  {
   "cell_type": "code",
   "execution_count": 119,
   "metadata": {},
   "outputs": [
    {
     "name": "stdout",
     "output_type": "stream",
     "text": [
      "Suggestion: sherlock holmes, Frequency: 4, Suggested url: http://en.wikipedia.org\n",
      "Suggestion: sherlock holmes society, Frequency: 2, Suggested url: http://www.sherlockian.net\n",
      "Suggestion: sherlock holmes chronological order, Frequency: 2, Suggested url: http://www.geocities.com\n",
      "Suggestion: sherlock holmes address, Frequency: 1,\n",
      "Suggestion: sherlock holmes audiotapes, Frequency: 1,\n",
      "Suggestion: sherlock holmes, Frequency: 4, Suggested url: http://en.wikipedia.org\n",
      "Suggestion: sherlock holmes society, Frequency: 2, Suggested url: http://www.sherlockian.net\n",
      "Suggestion: sherlock holmes chronological order, Frequency: 2, Suggested url: http://www.geocities.com\n",
      "Suggestion: sherlock holmes address, Frequency: 1,\n",
      "Suggestion: sherlock holmes audiotapes, Frequency: 1,\n",
      "Suggestion: carnegie mellon, Frequency: 6, Suggested url: http://www.cmu.edu\n",
      "Suggestion: carnegie mellon university, Frequency: 1, Suggested url: http://www.cmu.edu\n"
     ]
    },
    {
     "ename": "AssertionError",
     "evalue": "Assert carnagie mell and carnegie mell give different results",
     "output_type": "error",
     "traceback": [
      "\u001b[1;31m---------------------------------------------------------------------------\u001b[0m",
      "\u001b[1;31mAssertionError\u001b[0m                            Traceback (most recent call last)",
      "\u001b[1;32m<ipython-input-119-8e2603eb5e42>\u001b[0m in \u001b[0;36m<module>\u001b[1;34m\u001b[0m\n\u001b[0;32m     18\u001b[0m \u001b[1;33m\u001b[0m\u001b[0m\n\u001b[0;32m     19\u001b[0m \u001b[1;32mfor\u001b[0m \u001b[0mq\u001b[0m\u001b[1;33m,\u001b[0m \u001b[0mqc\u001b[0m \u001b[1;32min\u001b[0m \u001b[0mzip\u001b[0m\u001b[1;33m(\u001b[0m\u001b[0minp_queries\u001b[0m\u001b[1;33m,\u001b[0m \u001b[0minp_queries_corrected\u001b[0m\u001b[1;33m)\u001b[0m\u001b[1;33m:\u001b[0m\u001b[1;33m\u001b[0m\u001b[1;33m\u001b[0m\u001b[0m\n\u001b[1;32m---> 20\u001b[1;33m     \u001b[1;32massert\u001b[0m  \u001b[0mcomplete_user_query\u001b[0m\u001b[1;33m(\u001b[0m\u001b[0mqc\u001b[0m\u001b[1;33m,\u001b[0m \u001b[0maol_trie\u001b[0m\u001b[1;33m,\u001b[0m \u001b[1;36m5\u001b[0m\u001b[1;33m)\u001b[0m \u001b[1;33m==\u001b[0m\u001b[0;31m \u001b[0m\u001b[0;31m\\\u001b[0m\u001b[1;33m\u001b[0m\u001b[1;33m\u001b[0m\u001b[0m\n\u001b[0m\u001b[0;32m     21\u001b[0m             \u001b[0mcomplete_user_query_with_spellchecker\u001b[0m\u001b[1;33m(\u001b[0m\u001b[0mq\u001b[0m\u001b[1;33m,\u001b[0m \u001b[0maol_trie\u001b[0m\u001b[1;33m,\u001b[0m \u001b[1;36m5\u001b[0m\u001b[1;33m)\u001b[0m\u001b[1;33m,\u001b[0m \u001b[1;34m\"Assert {} and {} give different results\"\u001b[0m\u001b[1;33m.\u001b[0m\u001b[0mformat\u001b[0m\u001b[1;33m(\u001b[0m\u001b[0mq\u001b[0m\u001b[1;33m,\u001b[0m \u001b[0mqc\u001b[0m\u001b[1;33m)\u001b[0m\u001b[1;33m\u001b[0m\u001b[1;33m\u001b[0m\u001b[0m\n",
      "\u001b[1;31mAssertionError\u001b[0m: Assert carnagie mell and carnegie mell give different results"
     ]
    }
   ],
   "source": [
    "inp_queries = [\"inormation retrieval\", \"shelrock hol\", \"carnagie mell\", \"babis r\", \"Barrbara \"]\n",
    "inp_queries_corrected = [\"information retrieval\", \"sherlock hol\", \"carnegie mell\", \"babies r\", \"Barbara \"]\n",
    "\n",
    "def complete_user_query_with_spellchecker(query, trie, top_k=5):\n",
    "    #TODO: suggest top_k options for a user query\n",
    "    # sort results by frequency, suggest first ranked urls if available\n",
    "    filtered_query = list(filter(lambda x: x not in stops, query.split(' ')))\n",
    "    spell = SpellChecker(language='en',  case_sensitive=False)\n",
    "    misspelled = spell.unknown(filtered_query)\n",
    "    for word in misspelled:\n",
    "        idx = filtered_query.index(word)\n",
    "        correction = spell.candidates(word).pop()\n",
    "        if not len(correction) == 1:\n",
    "            filtered_query[idx] = correction\n",
    "    filtered_query = u\" \".join(filtered_query)\n",
    "    return complete_user_query(filtered_query, trie, top_k)\n",
    "\n",
    "\n",
    "for q, qc in zip(inp_queries, inp_queries_corrected):\n",
    "    assert  complete_user_query(qc, aol_trie, 5) == \\\n",
    "            complete_user_query_with_spellchecker(q, aol_trie, 5), \"Assert {} and {} give different results\".format(q, qc)"
   ]
  }
 ],
 "metadata": {
  "kernelspec": {
   "display_name": "Python 3",
   "language": "python",
   "name": "python3"
  },
  "language_info": {
   "codemirror_mode": {
    "name": "ipython",
    "version": 3
   },
   "file_extension": ".py",
   "mimetype": "text/x-python",
   "name": "python",
   "nbconvert_exporter": "python",
   "pygments_lexer": "ipython3",
   "version": "3.8.8"
  }
 },
 "nbformat": 4,
 "nbformat_minor": 4
}
